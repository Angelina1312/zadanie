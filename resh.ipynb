{
 "cells": [
  {
   "cell_type": "markdown",
   "metadata": {
    "id": "Ah7dy1kFL2H9"
   },
   "source": [
    "# Промежуточная аттестация № 2\n",
    "\n",
    "Разработать и обучить нейронную сеть на TensorFlow для решения задачи классификации рукописных цифр. Набор данных: MNIST, источник: from keras.datasets import mnist\n",
    "\n",
    "В нейронной сети должно быть 3 Dense-слоя: два скрытых слоя, состоящих из 128 нейронов каждый, и выходной слой. Активационные функции на скрытых слоях relu, на выходном - softmax.\n",
    "\n",
    "В качестве ответа необходимо указать количество оптимизируемых параметров (Trainable params) в виде целого числа\n",
    "и прикрепить к ответу подробное решение с кодом в виде файла или архива с файлами."
   ]
  },
  {
   "cell_type": "code",
   "execution_count": 1,
   "metadata": {
    "id": "qrfd6FzSLrE2"
   },
   "outputs": [],
   "source": [
    "from tensorflow.keras.datasets import mnist\n",
    "from tensorflow.keras.models import Sequential \n",
    "from tensorflow.keras.layers import Dense\n",
    "from tensorflow.keras import utils\n",
    "from tensorflow.keras.preprocessing import image\n",
    "import numpy as np\n",
    "import matplotlib.pyplot as plt\n",
    "from PIL import Image"
   ]
  },
  {
   "cell_type": "markdown",
   "metadata": {
    "id": "xiurjCBVMDTG"
   },
   "source": [
    "## Подготовка данных"
   ]
  },
  {
   "cell_type": "markdown",
   "metadata": {
    "id": "1yDF75Cx8VPz"
   },
   "source": [
    "**Загрузка**"
   ]
  },
  {
   "cell_type": "code",
   "execution_count": 2,
   "metadata": {
    "colab": {
     "base_uri": "https://localhost:8080/",
     "height": 54
    },
    "id": "E5L3LUIi8PDV",
    "outputId": "4d81609e-0580-4295-ba49-6d3f7d47a49c"
   },
   "outputs": [],
   "source": [
    "(x_train_org, y_train_org), (x_test_org, y_test_org) = mnist.load_data()"
   ]
  },
  {
   "cell_type": "code",
   "execution_count": 3,
   "metadata": {
    "colab": {
     "base_uri": "https://localhost:8080/",
     "height": 269
    },
    "id": "ga0DtPJQVkEh",
    "outputId": "190094b7-fef9-47b6-f39d-289ca9a63b74"
   },
   "outputs": [
    {
     "data": {
      "image/png": "[encoded data removed]",
      "text/plain": [
       "<Figure size 432x288 with 1 Axes>"
      ]
     },
     "metadata": {
      "needs_background": "light"
     },
     "output_type": "display_data"
    }
   ],
   "source": [
    "n = 136 \n",
    "\n",
    "plt.imshow(Image.fromarray(x_train_org[n]).convert('RGBA'))\n",
    "plt.show()"
   ]
  },
  {
   "cell_type": "markdown",
   "metadata": {
    "id": "7uXTnIojJLbl"
   },
   "source": [
    "**Преобразование размерности**"
   ]
  },
  {
   "cell_type": "code",
   "execution_count": 4,
   "metadata": {
    "id": "GBAqLKjGJJ-V"
   },
   "outputs": [],
   "source": [
    "x_train = x_train_org.reshape(60000, 784)\n",
    "x_test = x_test_org.reshape(10000, 784)"
   ]
  },
  {
   "cell_type": "markdown",
   "metadata": {
    "id": "hDaHO5LgJYxU"
   },
   "source": [
    "**Нормализация**"
   ]
  },
  {
   "cell_type": "code",
   "execution_count": 5,
   "metadata": {
    "id": "rscaAuBNJdq9"
   },
   "outputs": [],
   "source": [
    "x_train = x_train.astype('float32')\n",
    "x_train = x_train / 255\n",
    "x_test = x_test.astype('float32')\n",
    "x_test = x_test / 255 "
   ]
  },
  {
   "cell_type": "markdown",
   "metadata": {
    "id": "KRcMlNzqJk1t"
   },
   "source": [
    "**Работа с правильными ответами**"
   ]
  },
  {
   "cell_type": "code",
   "execution_count": 6,
   "metadata": {
    "colab": {
     "base_uri": "https://localhost:8080/",
     "height": 35
    },
    "id": "A5lKe_syJqPu",
    "outputId": "3be1a267-d5dc-4019-b919-e7acd884e4e1"
   },
   "outputs": [
    {
     "name": "stdout",
     "output_type": "stream",
     "text": [
      "3\n"
     ]
    }
   ],
   "source": [
    "print(y_train_org[n])"
   ]
  },
  {
   "cell_type": "markdown",
   "metadata": {
    "id": "zqJ9GA1kJxBF"
   },
   "source": [
    "**Преобразование в one hot encoding**"
   ]
  },
  {
   "cell_type": "code",
   "execution_count": 7,
   "metadata": {
    "id": "zQnasUyyJ3cG"
   },
   "outputs": [],
   "source": [
    "y_train = utils.to_categorical(y_train_org, 10)\n",
    "y_test = utils.to_categorical(y_test_org, 10)"
   ]
  },
  {
   "cell_type": "markdown",
   "metadata": {
    "id": "KfuqlyjHJ_ye"
   },
   "source": [
    "**Правильный ответ в формате one hot encoding**"
   ]
  },
  {
   "cell_type": "code",
   "execution_count": 8,
   "metadata": {
    "colab": {
     "base_uri": "https://localhost:8080/",
     "height": 35
    },
    "id": "9zUfd1aeKH3e",
    "outputId": "65d48e5d-cfd8-442d-ad45-6374ba6c6cb8"
   },
   "outputs": [
    {
     "name": "stdout",
     "output_type": "stream",
     "text": [
      "(60000, 10)\n"
     ]
    }
   ],
   "source": [
    "print(y_train.shape)"
   ]
  },
  {
   "cell_type": "code",
   "execution_count": 9,
   "metadata": {
    "colab": {
     "base_uri": "https://localhost:8080/",
     "height": 35
    },
    "id": "KWYwnS5giydM",
    "outputId": "252b02b1-a63e-49b8-9c50-40d82ad5d0db"
   },
   "outputs": [
    {
     "name": "stdout",
     "output_type": "stream",
     "text": [
      "[0. 0. 0. 1. 0. 0. 0. 0. 0. 0.]\n"
     ]
    }
   ],
   "source": [
    "print(y_train[n])"
   ]
  },
  {
   "cell_type": "markdown",
   "metadata": {
    "id": "BmTr_lXTKNbN"
   },
   "source": [
    "## Создаем нейронную сеть"
   ]
  },
  {
   "cell_type": "code",
   "execution_count": 10,
   "metadata": {
    "id": "D-jPYYxIKQkt"
   },
   "outputs": [],
   "source": [
    "model = Sequential()"
   ]
  },
  {
   "cell_type": "markdown",
   "metadata": {
    "id": "Q3QzIVtBMQRG"
   },
   "source": [
    "**Добавляем Dense-слои**\n"
   ]
  },
  {
   "cell_type": "code",
   "execution_count": 11,
   "metadata": {
    "colab": {
     "base_uri": "https://localhost:8080/",
     "height": 92
    },
    "id": "kYVSvpNIMSnG",
    "outputId": "0a7fd729-3a66-4b3a-f695-c7d639296d62"
   },
   "outputs": [],
   "source": [
    "# Из задания - в нейронной сети должно быть 3 Dense-слоя: два скрытых слоя, состоящих из 128 нейронов каждый, \n",
    "#и выходной слой. Активационные функции на скрытых слоях relu, на выходном - softmax.\n",
    "model.add(Dense(128, input_dim=784, activation=\"relu\"))\n",
    "model.add(Dense(128, activation=\"relu\"))\n",
    "\n",
    "model.add(Dense(10, activation=\"softmax\"))"
   ]
  },
  {
   "cell_type": "markdown",
   "metadata": {
    "id": "G__m76T-KWhd"
   },
   "source": [
    "**Компилируем**"
   ]
  },
  {
   "cell_type": "code",
   "execution_count": 12,
   "metadata": {
    "colab": {
     "base_uri": "https://localhost:8080/",
     "height": 294
    },
    "id": "PTcbSxchKZjd",
    "outputId": "3311c569-752f-4887-eed5-b878d0a0a9e1"
   },
   "outputs": [
    {
     "name": "stdout",
     "output_type": "stream",
     "text": [
      "Model: \"sequential\"\n",
      "_________________________________________________________________\n",
      " Layer (type)                Output Shape              Param #   \n",
      "=================================================================\n",
      " dense (Dense)               (None, 128)               100480    \n",
      "                                                                 \n",
      " dense_1 (Dense)             (None, 128)               16512     \n",
      "                                                                 \n",
      " dense_2 (Dense)             (None, 10)                1290      \n",
      "                                                                 \n",
      "=================================================================\n",
      "Total params: 118,282\n",
      "Trainable params: 118,282\n",
      "Non-trainable params: 0\n",
      "_________________________________________________________________\n",
      "None\n"
     ]
    }
   ],
   "source": [
    "model.compile(loss=\"categorical_crossentropy\", optimizer=\"adam\", metrics=[\"accuracy\"])\n",
    "\n",
    "print(model.summary())"
   ]
  },
  {
   "cell_type": "markdown",
   "metadata": {
    "id": "lspCHiaCKl72"
   },
   "source": [
    "## Обучение нейронной сети"
   ]
  },
  {
   "cell_type": "code",
   "execution_count": 13,
   "metadata": {
    "colab": {
     "base_uri": "https://localhost:8080/",
     "height": 813
    },
    "id": "H6EIXu1dKoju",
    "outputId": "3a524fc5-261f-4974-c328-802af04503eb"
   },
   "outputs": [
    {
     "name": "stdout",
     "output_type": "stream",
     "text": [
      "Epoch 1/20\n",
      "375/375 [==============================] - 1s 2ms/step - loss: 0.3480 - accuracy: 0.9018 - val_loss: 0.1671 - val_accuracy: 0.9503\n",
      "Epoch 2/20\n",
      "375/375 [==============================] - 0s 1ms/step - loss: 0.1419 - accuracy: 0.9590 - val_loss: 0.1293 - val_accuracy: 0.9607\n",
      "Epoch 3/20\n",
      "375/375 [==============================] - 0s 1ms/step - loss: 0.0982 - accuracy: 0.9713 - val_loss: 0.1032 - val_accuracy: 0.9668\n",
      "Epoch 4/20\n",
      "375/375 [==============================] - 0s 1ms/step - loss: 0.0752 - accuracy: 0.9776 - val_loss: 0.0978 - val_accuracy: 0.9681\n",
      "Epoch 5/20\n",
      "375/375 [==============================] - 0s 1ms/step - loss: 0.0566 - accuracy: 0.9831 - val_loss: 0.0887 - val_accuracy: 0.9723\n",
      "Epoch 6/20\n",
      "375/375 [==============================] - 0s 1ms/step - loss: 0.0447 - accuracy: 0.9863 - val_loss: 0.0902 - val_accuracy: 0.9738\n",
      "Epoch 7/20\n",
      "375/375 [==============================] - 0s 1ms/step - loss: 0.0359 - accuracy: 0.9889 - val_loss: 0.0910 - val_accuracy: 0.9736\n",
      "Epoch 8/20\n",
      "375/375 [==============================] - 0s 1ms/step - loss: 0.0274 - accuracy: 0.9918 - val_loss: 0.0859 - val_accuracy: 0.9753\n",
      "Epoch 9/20\n",
      "375/375 [==============================] - 0s 1ms/step - loss: 0.0237 - accuracy: 0.9929 - val_loss: 0.1051 - val_accuracy: 0.9715\n",
      "Epoch 10/20\n",
      "375/375 [==============================] - 0s 1ms/step - loss: 0.0185 - accuracy: 0.9943 - val_loss: 0.0945 - val_accuracy: 0.9757\n",
      "Epoch 11/20\n",
      "375/375 [==============================] - 0s 1ms/step - loss: 0.0143 - accuracy: 0.9957 - val_loss: 0.0978 - val_accuracy: 0.9735\n",
      "Epoch 12/20\n",
      "375/375 [==============================] - 0s 1ms/step - loss: 0.0154 - accuracy: 0.9953 - val_loss: 0.1011 - val_accuracy: 0.9746\n",
      "Epoch 13/20\n",
      "375/375 [==============================] - 0s 1ms/step - loss: 0.0115 - accuracy: 0.9964 - val_loss: 0.1215 - val_accuracy: 0.9718\n",
      "Epoch 14/20\n",
      "375/375 [==============================] - 0s 1ms/step - loss: 0.0120 - accuracy: 0.9963 - val_loss: 0.1145 - val_accuracy: 0.9723\n",
      "Epoch 15/20\n",
      "375/375 [==============================] - 0s 1ms/step - loss: 0.0091 - accuracy: 0.9972 - val_loss: 0.0999 - val_accuracy: 0.9754\n",
      "Epoch 16/20\n",
      "375/375 [==============================] - 0s 1ms/step - loss: 0.0062 - accuracy: 0.9983 - val_loss: 0.1098 - val_accuracy: 0.9751\n",
      "Epoch 17/20\n",
      "375/375 [==============================] - 0s 1ms/step - loss: 0.0141 - accuracy: 0.9955 - val_loss: 0.1576 - val_accuracy: 0.9662\n",
      "Epoch 18/20\n",
      "375/375 [==============================] - 0s 1ms/step - loss: 0.0111 - accuracy: 0.9966 - val_loss: 0.1301 - val_accuracy: 0.9732\n",
      "Epoch 19/20\n",
      "375/375 [==============================] - 0s 1ms/step - loss: 0.0061 - accuracy: 0.9984 - val_loss: 0.1036 - val_accuracy: 0.9784\n",
      "Epoch 20/20\n",
      "375/375 [==============================] - 0s 1ms/step - loss: 0.0065 - accuracy: 0.9979 - val_loss: 0.1130 - val_accuracy: 0.9751\n"
     ]
    },
    {
     "data": {
      "text/plain": [
       "<keras.callbacks.History at 0x23085898fd0>"
      ]
     },
     "execution_count": 13,
     "metadata": {},
     "output_type": "execute_result"
    }
   ],
   "source": [
    "model.fit(x_train, y_train, batch_size=128, epochs=20,  verbose=1, validation_split=0.2)"
   ]
  },
  {
   "cell_type": "markdown",
   "metadata": {
    "id": "8OsyUFVULEkG"
   },
   "source": [
    "## Сохраняем нейронную сеть"
   ]
  },
  {
   "cell_type": "markdown",
   "metadata": {
    "id": "3H4ivOt5H2rm"
   },
   "source": [
    "Записываем в файл `mnist_result.h5`"
   ]
  },
  {
   "cell_type": "code",
   "execution_count": 14,
   "metadata": {
    "id": "jCcYrRwfLYg-"
   },
   "outputs": [],
   "source": [
    "model.save(\"mnist_result.h5\")\n"
   ]
  },
  {
   "cell_type": "markdown",
   "metadata": {
    "id": "ulInadIzIBj_"
   },
   "source": [
    "Проверяем"
   ]
  },
  {
   "cell_type": "code",
   "execution_count": 15,
   "metadata": {
    "colab": {
     "base_uri": "https://localhost:8080/",
     "height": 35
    },
    "id": "DFOL85B1IEgO",
    "outputId": "aecfd4d3-ee41-471c-fdcb-27cda6a683c1"
   },
   "outputs": [
    {
     "name": "stdout",
     "output_type": "stream",
     "text": [
      " Том в устройстве C имеет метку Ceteris paribus\n",
      " Серийный номер тома: 6C6C-4033\n",
      "\n",
      " Содержимое папки C:\\Users\\ivan\\Desktop\\Учеба\\Data_Science\\Att_2\n",
      "\n",
      "02.11.2022  22:04    <DIR>          .\n",
      "02.11.2022  21:16    <DIR>          ..\n",
      "02.11.2022  21:27    <DIR>          .ipynb_checkpoints\n",
      "02.11.2022  22:04             9 285 att_2.ipynb\n",
      "02.11.2022  22:05         1 453 288 mnist_result.h5\n",
      "               2 файлов      1 462 573 байт\n",
      "               3 папок  151 607 173 120 байт свободно\n"
     ]
    }
   ],
   "source": [
    "!dir"
   ]
  },
  {
   "cell_type": "code",
   "execution_count": null,
   "metadata": {},
   "outputs": [],
   "source": []
  }
 ],
 "metadata": {
  "accelerator": "GPU",
  "colab": {
   "collapsed_sections": [
    "8OsyUFVULEkG"
   ],
   "provenance": []
  },
  "kernelspec": {
   "display_name": "Python 3 (ipykernel)",
   "language": "python",
   "name": "python3"
  },
  "language_info": {
   "codemirror_mode": {
    "name": "ipython",
    "version": 3
   },
   "file_extension": ".py",
   "mimetype": "text/x-python",
   "name": "python",
   "nbconvert_exporter": "python",
   "pygments_lexer": "ipython3",
   "version": "3.9.12"
  }
 },
 "nbformat": 4,
 "nbformat_minor": 1
}
